{
 "cells": [
  {
   "cell_type": "markdown",
   "metadata": {},
   "source": [
    "# ICEES Asthma, PM2.5 Exposure, and Drug Efficacy"
   ]
  },
  {
   "cell_type": "code",
   "execution_count": 1,
   "metadata": {},
   "outputs": [],
   "source": [
    "import networkx\n",
    "import requests\n",
    "import json\n",
    "requests.packages.urllib3.disable_warnings()"
   ]
  },
  {
   "cell_type": "code",
   "execution_count": 2,
   "metadata": {},
   "outputs": [],
   "source": [
    "tabular_headers = {\"Content-Type\" : \"application/json\", \"accept\": \"text/tabular\"}\n",
    "json_headers = {\"Content-Type\" : \"application/json\", \"accept\": \"application/json\"}"
   ]
  },
  {
   "cell_type": "markdown",
   "metadata": {},
   "source": [
    "## COHORT:44 (N = 1601) from feature variable AvgDailyPM2.5Exposure < 3"
   ]
  },
  {
   "cell_type": "code",
   "execution_count": 3,
   "metadata": {},
   "outputs": [
    {
     "name": "stdout",
     "output_type": "stream",
     "text": [
      "{'size': 1601, 'cohort_id': 'COHORT:44'}\n"
     ]
    }
   ],
   "source": [
    "cohort_44_definition = '{\"AvgDailyPM2.5Exposure\": { \"value\": 3, \"operator\": \"<\" }}'\n",
    "cohort_44_response = requests.post('https://icees.renci.org/1.0.0/patient/2010/cohort', data=cohort_44_definition, headers = json_headers, verify = False)\n",
    "cohort_44_json = cohort_44_response.json()\n",
    "print(cohort_44_json['return value'])"
   ]
  },
  {
   "cell_type": "markdown",
   "metadata": {},
   "source": [
    "## COHORT:54 (N = 3408) from feature variable AvgDailyPM2.5Exposure > 3"
   ]
  },
  {
   "cell_type": "code",
   "execution_count": 4,
   "metadata": {},
   "outputs": [
    {
     "name": "stdout",
     "output_type": "stream",
     "text": [
      "{'size': 3408, 'cohort_id': 'COHORT:54'}\n"
     ]
    }
   ],
   "source": [
    "cohort_54_definition = '{\"AvgDailyPM2.5Exposure\": { \"value\": 3, \"operator\": \">\" }}'\n",
    "cohort_54_response = requests.post('https://icees.renci.org/1.0.0/patient/2010/cohort', data=cohort_54_definition, headers = json_headers, verify = False)\n",
    "cohort_54_json = cohort_54_response.json()\n",
    "print(cohort_54_json['return value'])"
   ]
  },
  {
   "cell_type": "markdown",
   "metadata": {},
   "source": [
    "## TotalEDInpatientVisits < 2, /associations_to_all_features endpoint, cohort 44"
   ]
  },
  {
   "cell_type": "code",
   "execution_count": 5,
   "metadata": {},
   "outputs": [],
   "source": [
    "all_features_call = '{\"feature\":{\"TotalEDInpatientVisits\":{\"operator\":\"<\", \"value\":2}},\"maximum_p_value\":0.1}'\n",
    "data_for_all_cohorts = {}\n",
    "cohort_44_response = requests.post('https://icees.renci.org/1.0.0/patient/2010/cohort/COHORT%3A44/associations_to_all_features', headers = json_headers, data=all_features_call, verify = False)\n",
    "cohort_44_response_json = cohort_44_response.json()\n",
    "cohort_44_common_medication_data = []"
   ]
  },
  {
   "cell_type": "code",
   "execution_count": 20,
   "metadata": {},
   "outputs": [],
   "source": [
    "cohort_44_return_value = cohort_44_response_json['return value']\n",
    "for section in cohort_44_return_value:\n",
    "    feature_name = section['feature_b']['feature_name']\n",
    "    cohort_44_common_medication_data.append(section)\n",
    "data_for_all_cohorts['COHORT:44']=cohort_44_common_medication_data"
   ]
  },
  {
   "cell_type": "markdown",
   "metadata": {},
   "source": [
    "## TotalEDInpatientVisits < 2, /associations_to_all_features endpoint, cohort 54"
   ]
  },
  {
   "cell_type": "code",
   "execution_count": 7,
   "metadata": {},
   "outputs": [],
   "source": [
    "cohort_54_response = requests.post('https://icees.renci.org/1.0.0/patient/2010/cohort/COHORT%3A54/associations_to_all_features', headers = json_headers, data=all_features_call, verify = False)\n",
    "cohort_54_response_json = cohort_54_response.json()\n",
    "cohort_54_common_medication_data = []"
   ]
  },
  {
   "cell_type": "code",
   "execution_count": 8,
   "metadata": {},
   "outputs": [],
   "source": [
    "cohort_54_return_value = cohort_54_response_json['return value']\n",
    "for section in cohort_54_return_value:\n",
    "    feature_name = section['feature_b']['feature_name']\n",
    "    cohort_54_common_medication_data.append(section)\n",
    "data_for_all_cohorts['COHORT:54']=cohort_54_common_medication_data"
   ]
  },
  {
   "cell_type": "markdown",
   "metadata": {},
   "source": [
    "## With the 'associations_to_all_features' data in hand for cohorts 44 and 54, a dictionary containing quantities calculated from these cohorts is produced."
   ]
  },
  {
   "cell_type": "code",
   "execution_count": 66,
   "metadata": {},
   "outputs": [],
   "source": [
    "from collections import defaultdict\n",
    "all_cohorts_dict = defaultdict(dict)\n",
    "not_drugs = ['AgeStudyStart', 'CoughDx', 'PneumoniaDx','AvgDailyOzoneExposure','ObesityICD','AsthmaDx', 'EstProbabilityHighSchoolMaxEducation']\n",
    "\n",
    "for cohort_id, cohort_content in data_for_all_cohorts.items():\n",
    "    cohort_dict = defaultdict(dict)\n",
    "    number_patients_in_cohort = cohort_content[0]['total']\n",
    "    patients_with_ED_under_2_total_cohort = cohort_content[0]['columns'][0]['frequency']\n",
    "    patients_with_ED_over_2_total_cohort = cohort_content[0]['columns'][1]['frequency']\n",
    "    percentage_patients_with_ED_under_2_total_cohort = 100*patients_with_ED_under_2_total_cohort/number_patients_in_cohort\n",
    "    for drug in cohort_content:\n",
    "        drug_name = drug['feature_b']['feature_name']\n",
    "        if drug_name not in not_drugs:\n",
    "            drug_dict = defaultdict(dict)\n",
    "            number_patients_this_drug_EDVisits_under_2 = drug['feature_matrix'][1][0]['frequency']\n",
    "            number_patients_this_drug_EDVisits_over_2 = drug['feature_matrix'][1][1]['frequency']\n",
    "            number_patients_admin_this_drug = drug['rows'][1]['frequency']\n",
    "            number_patients_other_drugs_EDVisits_less_than_2 = drug['feature_matrix'][0][0]['frequency']\n",
    "            number_patients_other_drugs_EDVisits_over_2 = drug['feature_matrix'][0][1]['frequency']\n",
    "            number_patients_admin_other_drugs = drug['rows'][0]['frequency']\n",
    "            Prob_A_given_B = 100*number_patients_this_drug_EDVisits_under_2/number_patients_admin_this_drug\n",
    "            drug_dict['For all patients taking Drug, the percentage with EDVisits<2'] = Prob_A_given_B\n",
    "            Prob_B_given_A = 100*(number_patients_this_drug_EDVisits_under_2/patients_with_ED_under_2_total_cohort)\n",
    "            drug_dict['For all patients with EDVisits<2, the percentage taking Drug'] = Prob_B_given_A\n",
    "            drug_dict['% of patients on Drug w/ EDVisits<2 - % of patients in cohort w/ EDVisits<2'] = round(Prob_A_given_B - percentage_patients_with_ED_under_2_total_cohort, 2)\n",
    "            cohort_dict[drug_name] = dict(drug_dict)\n",
    "    all_cohorts_dict[cohort_id+' responsiveness']=dict(cohort_dict)"
   ]
  },
  {
   "cell_type": "code",
   "execution_count": 67,
   "metadata": {},
   "outputs": [
    {
     "data": {
      "text/html": [
       "<div>\n",
       "<style scoped>\n",
       "    .dataframe tbody tr th:only-of-type {\n",
       "        vertical-align: middle;\n",
       "    }\n",
       "\n",
       "    .dataframe tbody tr th {\n",
       "        vertical-align: top;\n",
       "    }\n",
       "\n",
       "    .dataframe thead tr th {\n",
       "        text-align: left;\n",
       "    }\n",
       "</style>\n",
       "<table border=\"1\" class=\"dataframe\">\n",
       "  <thead>\n",
       "    <tr>\n",
       "      <th></th>\n",
       "      <th colspan=\"2\" halign=\"left\">COHORT:44 responsiveness</th>\n",
       "      <th colspan=\"4\" halign=\"left\">COHORT:54 responsiveness</th>\n",
       "    </tr>\n",
       "    <tr>\n",
       "      <th></th>\n",
       "      <th>Prednisone</th>\n",
       "      <th>Diphenhydramine</th>\n",
       "      <th>Prednisone</th>\n",
       "      <th>Diphenhydramine</th>\n",
       "      <th>Ipratropium</th>\n",
       "      <th>Salmeterol</th>\n",
       "    </tr>\n",
       "  </thead>\n",
       "  <tbody>\n",
       "    <tr>\n",
       "      <th>% of patients on Drug w/ EDVisits&lt;2 - % of patients in cohort w/ EDVisits&lt;2</th>\n",
       "      <td>-7.61</td>\n",
       "      <td>-7.64</td>\n",
       "      <td>-8.46</td>\n",
       "      <td>-12.03</td>\n",
       "      <td>-17.30</td>\n",
       "      <td>-45.36</td>\n",
       "    </tr>\n",
       "    <tr>\n",
       "      <th>For all patients taking Drug, the percentage with EDVisits&lt;2</th>\n",
       "      <td>84.46</td>\n",
       "      <td>84.43</td>\n",
       "      <td>70.24</td>\n",
       "      <td>66.67</td>\n",
       "      <td>61.40</td>\n",
       "      <td>33.33</td>\n",
       "    </tr>\n",
       "    <tr>\n",
       "      <th>For all patients with EDVisits&lt;2, the percentage taking Drug</th>\n",
       "      <td>11.06</td>\n",
       "      <td>13.98</td>\n",
       "      <td>9.77</td>\n",
       "      <td>11.26</td>\n",
       "      <td>4.92</td>\n",
       "      <td>0.11</td>\n",
       "    </tr>\n",
       "  </tbody>\n",
       "</table>\n",
       "</div>"
      ],
      "text/plain": [
       "                                                   COHORT:44 responsiveness  \\\n",
       "                                                                 Prednisone   \n",
       "% of patients on Drug w/ EDVisits<2 - % of pati...                    -7.61   \n",
       "For all patients taking Drug, the percentage wi...                    84.46   \n",
       "For all patients with EDVisits<2, the percentag...                    11.06   \n",
       "\n",
       "                                                                    \\\n",
       "                                                   Diphenhydramine   \n",
       "% of patients on Drug w/ EDVisits<2 - % of pati...           -7.64   \n",
       "For all patients taking Drug, the percentage wi...           84.43   \n",
       "For all patients with EDVisits<2, the percentag...           13.98   \n",
       "\n",
       "                                                   COHORT:54 responsiveness  \\\n",
       "                                                                 Prednisone   \n",
       "% of patients on Drug w/ EDVisits<2 - % of pati...                    -8.46   \n",
       "For all patients taking Drug, the percentage wi...                    70.24   \n",
       "For all patients with EDVisits<2, the percentag...                     9.77   \n",
       "\n",
       "                                                                    \\\n",
       "                                                   Diphenhydramine   \n",
       "% of patients on Drug w/ EDVisits<2 - % of pati...          -12.03   \n",
       "For all patients taking Drug, the percentage wi...           66.67   \n",
       "For all patients with EDVisits<2, the percentag...           11.26   \n",
       "\n",
       "                                                                           \n",
       "                                                   Ipratropium Salmeterol  \n",
       "% of patients on Drug w/ EDVisits<2 - % of pati...      -17.30     -45.36  \n",
       "For all patients taking Drug, the percentage wi...       61.40      33.33  \n",
       "For all patients with EDVisits<2, the percentag...        4.92       0.11  "
      ]
     },
     "execution_count": 67,
     "metadata": {},
     "output_type": "execute_result"
    }
   ],
   "source": [
    "import pandas\n",
    "\n",
    "all_cohorts_dict_reformatted = {(outerKey, innerKey): values for outerKey, innerDict in all_cohorts_dict.items() for innerKey, values in innerDict.items()}\n",
    "all_cohorts_dict_table = pandas.DataFrame(all_cohorts_dict_reformatted)\n",
    "all_cohorts_dict_table.round(2)"
   ]
  },
  {
   "cell_type": "code",
   "execution_count": null,
   "metadata": {},
   "outputs": [],
   "source": []
  }
 ],
 "metadata": {
  "kernelspec": {
   "display_name": "Python 3",
   "language": "python",
   "name": "python3"
  },
  "language_info": {
   "codemirror_mode": {
    "name": "ipython",
    "version": 3
   },
   "file_extension": ".py",
   "mimetype": "text/x-python",
   "name": "python",
   "nbconvert_exporter": "python",
   "pygments_lexer": "ipython3",
   "version": "3.7.0"
  }
 },
 "nbformat": 4,
 "nbformat_minor": 2
}
